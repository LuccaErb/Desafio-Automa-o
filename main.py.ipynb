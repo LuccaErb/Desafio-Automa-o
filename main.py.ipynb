{
 "cells": [
  {
   "cell_type": "markdown",
   "id": "4ce6b0d2",
   "metadata": {},
   "source": [
    "Condições para considerado feito:\n",
    "- Utilizar Python 3.12;\n",
    "- Utilizar Selenium 4.15.2;\n",
    "- Utilizar o site Swag Labs;\n",
    "- Fazer seu caminho completo;\n",
    "- Login / Adicionar itens ao carrinho / Visualizar carrinho / Finalizar;\n",
    "- Estar de acordo com as regras de negócio;\n",
    "- Disponibilizar o código fonte em um repositório do Github;\n",
    "- Utilizar os princípios do Clean Code;\n",
    "Regras de negócios:\n",
    "- Terá que pegar informações de login e cadastro de um arquivo .csv ou .xml;\n",
    "- Terá que printar ao final o valor total;"
   ]
  },
  {
   "cell_type": "code",
   "execution_count": 54,
   "id": "09f41188",
   "metadata": {},
   "outputs": [],
   "source": []
  },
  {
   "cell_type": "code",
   "execution_count": 53,
   "id": "274a4fbd",
   "metadata": {
    "scrolled": true
   },
   "outputs": [
    {
     "name": "stdout",
     "output_type": "stream",
     "text": [
      "Requirement already satisfied: pandas in c:\\users\\larissa duarte\\anaconda3\\lib\\site-packages (2.0.3)\n",
      "Requirement already satisfied: python-dateutil>=2.8.2 in c:\\users\\larissa duarte\\anaconda3\\lib\\site-packages (from pandas) (2.8.2)\n",
      "Requirement already satisfied: pytz>=2020.1 in c:\\users\\larissa duarte\\anaconda3\\lib\\site-packages (from pandas) (2023.3.post1)\n",
      "Requirement already satisfied: tzdata>=2022.1 in c:\\users\\larissa duarte\\anaconda3\\lib\\site-packages (from pandas) (2023.3)\n",
      "Requirement already satisfied: numpy>=1.21.0 in c:\\users\\larissa duarte\\anaconda3\\lib\\site-packages (from pandas) (1.24.3)\n",
      "Requirement already satisfied: six>=1.5 in c:\\users\\larissa duarte\\anaconda3\\lib\\site-packages (from python-dateutil>=2.8.2->pandas) (1.16.0)\n"
     ]
    }
   ],
   "source": [
    "!pip install pandas"
   ]
  },
  {
   "cell_type": "code",
   "execution_count": null,
   "id": "f9f13413",
   "metadata": {},
   "outputs": [],
   "source": []
  },
  {
   "cell_type": "code",
   "execution_count": 103,
   "id": "533f4660",
   "metadata": {
    "scrolled": true
   },
   "outputs": [],
   "source": [
    "from selenium import webdriver\n",
    "from webdriver_manager.chrome import ChromeDriverManager \n",
    "from selenium.webdriver.chrome.service import Service\n",
    "from selenium.webdriver.common.by import By\n",
    "import csv\n",
    "\n",
    "\n",
    "\n"
   ]
  },
  {
   "cell_type": "code",
   "execution_count": 84,
   "id": "30d11e4a",
   "metadata": {},
   "outputs": [],
   "source": []
  },
  {
   "cell_type": "code",
   "execution_count": 78,
   "id": "f0db8cca",
   "metadata": {},
   "outputs": [
    {
     "ename": "IndentationError",
     "evalue": "unexpected indent (2212985936.py, line 3)",
     "output_type": "error",
     "traceback": [
      "\u001b[1;36m  Cell \u001b[1;32mIn[78], line 3\u001b[1;36m\u001b[0m\n\u001b[1;33m    df  = pd.read_csv(C:\\Users\\Larissa Duarte\\Desktop\\csv\\loginDesafio.csv)\u001b[0m\n\u001b[1;37m    ^\u001b[0m\n\u001b[1;31mIndentationError\u001b[0m\u001b[1;31m:\u001b[0m unexpected indent\n"
     ]
    }
   ],
   "source": [
    " \n",
    "\n"
   ]
  },
  {
   "cell_type": "raw",
   "id": "6c88f861",
   "metadata": {},
   "source": []
  },
  {
   "cell_type": "code",
   "execution_count": 120,
   "id": "63db8219",
   "metadata": {},
   "outputs": [],
   "source": [
    "\n",
    "\n",
    "def login(usuario, senha):\n",
    "    navegador.get('https://www.saucedemo.com/v1/')\n",
    "\n",
    "    username_input = navegador.find_element(By.XPATH, '//*[@id=\"user-name\"]')\n",
    "    password_input = navegador.find_element(By.XPATH, '//*[@id=\"password\"]')\n",
    "    login_button = navegador.find_element(By.XPATH, '//*[@id=\"login-button\"]')\n",
    "\n",
    "    username_input.clear()\n",
    "    username_input.clear()\n",
    "    \n",
    "    \n",
    "    username_input.send_keys(usuario)\n",
    "    password_input.send_keys(senha)\n",
    "    \n",
    "    login_button = navegador.find_element(By.XPATH, '//*[@id=\"login-button\"]')\n",
    "    login_button.click()\n",
    "\n",
    "# Configuração do WebDriver\n",
    "\n",
    "servico = Service(ChromeDriverManager().install())\n",
    "\n",
    "navegador = webdriver.Chrome(service=servico)\n",
    "\n",
    "# Leitura das credenciais do arquivo CSV\n",
    "with open(r\"C:/Users/Larissa Duarte/Desktop/csv/loginDesafio.csv\", \"r\") as arquivo:\n",
    "    arquivo_csv = csv.DictReader(arquivo)\n",
    "\n",
    "    for linha in arquivo_csv:\n",
    "        # Obtendo informações do arquivo\n",
    "        usuario = linha['usuario']\n",
    "        senha = linha['senha']\n",
    "\n",
    "        # Realizando o login\n",
    "        login(usuario, senha)\n",
    "\n",
    "        navegador.find_element('xpath','//*[@id=\"inventory_container\"]/div/div[1]/div[3]/button').click()\n",
    "        \n",
    "\n",
    "        navegador.find_element('xpath','//*[@id=\"shopping_cart_container\"]/a/span').click()\n",
    "\n",
    "\n",
    "#navegador.quit()"
   ]
  },
  {
   "cell_type": "code",
   "execution_count": 122,
   "id": "d20524ce",
   "metadata": {},
   "outputs": [
    {
     "name": "stdout",
     "output_type": "stream",
     "text": [
      "O valor total é: 29.99\n"
     ]
    }
   ],
   "source": [
    "# Localize o elemento que contém o valor total\n",
    "elemento_valor_total = navegador.find_element(By.XPATH, '//*[@id=\"cart_contents_container\"]/div/div[1]/div[3]/div[2]/div[2]/div')\n",
    "\n",
    "# Obtenha o texto do elemento\n",
    "valor_total = elemento_valor_total.text\n",
    "\n",
    "# Imprima o valor total\n",
    "print(f\"O valor total é: {valor_total}\")\n"
   ]
  },
  {
   "cell_type": "code",
   "execution_count": 112,
   "id": "a0d38ea0",
   "metadata": {},
   "outputs": [],
   "source": [
    "\n",
    "#ferramenta pra encontrar qualquer elemento dentro da pagina \n",
    "#navegador.find_element('xpath','//*[@id=\"user-name\"]').send_keys('standard_user')\n",
    "#navegador.find_element('xpath','//*[@id=\"password\"]').send_keys('secret_sauce')\n",
    "\n",
    "#navegador.find_element('xpath','//*[@id=\"login-button\"]').click()\n",
    "\n",
    "#navegador.find_element('xpath','//*[@id=\"inventory_container\"]/div/div[1]/div[3]/button').click()\n",
    "\n",
    "#navegador.find_element('xpath','//*[@id=\"shopping_cart_container\"]/a/span').click()\n"
   ]
  },
  {
   "cell_type": "code",
   "execution_count": 124,
   "id": "114188bc",
   "metadata": {},
   "outputs": [
    {
     "ename": "SyntaxError",
     "evalue": "invalid syntax (2830201818.py, line 1)",
     "output_type": "error",
     "traceback": [
      "\u001b[1;36m  Cell \u001b[1;32mIn[124], line 1\u001b[1;36m\u001b[0m\n\u001b[1;33m    git init\u001b[0m\n\u001b[1;37m        ^\u001b[0m\n\u001b[1;31mSyntaxError\u001b[0m\u001b[1;31m:\u001b[0m invalid syntax\n"
     ]
    }
   ],
   "source": []
  },
  {
   "cell_type": "code",
   "execution_count": null,
   "id": "335a3e3b",
   "metadata": {},
   "outputs": [],
   "source": []
  }
 ],
 "metadata": {
  "kernelspec": {
   "display_name": "Python 3 (ipykernel)",
   "language": "python",
   "name": "python3"
  },
  "language_info": {
   "codemirror_mode": {
    "name": "ipython",
    "version": 3
   },
   "file_extension": ".py",
   "mimetype": "text/x-python",
   "name": "python",
   "nbconvert_exporter": "python",
   "pygments_lexer": "ipython3",
   "version": "3.11.5"
  }
 },
 "nbformat": 4,
 "nbformat_minor": 5
}
